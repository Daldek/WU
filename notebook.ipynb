{
 "cells": [
  {
   "cell_type": "code",
   "execution_count": null,
   "metadata": {},
   "outputs": [],
   "source": [
    "from main import *\n",
    "import creds\n",
    "import pandas as pd\n",
    "from datetime import datetime  #, date, timedelta\n",
    "# from operator import index"
   ]
  },
  {
   "attachments": {},
   "cell_type": "markdown",
   "metadata": {},
   "source": [
    "Get PWS measurement data from WU for selected days and combine into one table"
   ]
  },
  {
   "cell_type": "code",
   "execution_count": null,
   "metadata": {},
   "outputs": [],
   "source": [
    "year1, month1, day1 = 2023, 5, 1\n",
    "year2, month2, day2 = 2023, 5, 2\n",
    "year3, month3, day3 = 2023, 5, 3\n",
    "year4, month4, day4 = 2024, 5, 4  # future\n",
    "year5, month5, day5 = 2022, 5, 5  # past"
   ]
  },
  {
   "cell_type": "code",
   "execution_count": null,
   "metadata": {},
   "outputs": [],
   "source": [
    "response_dict1 = get_daily_weather(station_id = 'IPOBIE4', api_key = creds.api_key, year = year1, month = month1, day = day1).json()\n",
    "response_dict2 = get_daily_weather(station_id = 'IPOBIE4', api_key = creds.api_key, year = year2, month = month2, day = day2).json()\n",
    "response_dict3 = get_daily_weather(station_id = 'IPOBIE4', api_key = creds.api_key, year = year3, month = month3, day = day3).json()\n",
    "# response_dict4 = get_daily_weather(station_id = 'IPOBIE4', api_key = creds.api_key, year = year4, month = month4, day = day4).json()  # future, json cannot be converted\n",
    "response_dict5 = get_daily_weather(station_id = 'IPOBIE4', api_key = creds.api_key, year = year5, month = month5, day = day5).json()"
   ]
  },
  {
   "cell_type": "code",
   "execution_count": null,
   "metadata": {},
   "outputs": [],
   "source": [
    "pws_obs1 = response_dict1['observations'][0]['metric']\n",
    "pws_obs2 = response_dict2['observations'][0]['metric']\n",
    "pws_obs3 = response_dict3['observations'][0]['metric']\n",
    "# pws_obs4 = response_dict4['observations'][0]['metric']\n",
    "response_dict5"
   ]
  },
  {
   "cell_type": "code",
   "execution_count": null,
   "metadata": {},
   "outputs": [],
   "source": [
    "dfs = pd.DataFrame([pws_obs1, pws_obs2, pws_obs3])\n",
    "dfs"
   ]
  },
  {
   "attachments": {},
   "cell_type": "markdown",
   "metadata": {},
   "source": [
    "Get current conditions and display station's ID, time and temperature"
   ]
  },
  {
   "cell_type": "code",
   "execution_count": null,
   "metadata": {},
   "outputs": [],
   "source": [
    "response_dict = get_current_weather(station_id = 'IPOBIE4', api_key = creds.api_key).json()\n",
    "response_dict"
   ]
  },
  {
   "cell_type": "code",
   "execution_count": null,
   "metadata": {},
   "outputs": [],
   "source": [
    "pws_obs = response_dict['observations'][0]\n",
    "pws_obs"
   ]
  },
  {
   "cell_type": "code",
   "execution_count": null,
   "metadata": {},
   "outputs": [],
   "source": [
    "pws_obs['metric']"
   ]
  },
  {
   "cell_type": "code",
   "execution_count": null,
   "metadata": {},
   "outputs": [],
   "source": [
    "print('Station ID: ', pws_obs['stationID'])\n",
    "print('Date: ', date(year1, month1, day1))\n",
    "print('Temperature: ', pws_obs['metric']['temp'])"
   ]
  },
  {
   "attachments": {},
   "cell_type": "markdown",
   "metadata": {},
   "source": [
    "Get data from a month"
   ]
  },
  {
   "cell_type": "code",
   "execution_count": null,
   "metadata": {},
   "outputs": [],
   "source": [
    "future_month = get_monthly_weather('IPOBIE4', creds.api_key, 2024, 5)\n",
    "# month[0]\n",
    "future_month"
   ]
  },
  {
   "cell_type": "code",
   "execution_count": null,
   "metadata": {},
   "outputs": [],
   "source": [
    "current_month = get_monthly_weather('IPOBIE4', creds.api_key, 2023, 5)\n",
    "# month[0]\n",
    "current_month"
   ]
  },
  {
   "cell_type": "code",
   "execution_count": null,
   "metadata": {},
   "outputs": [],
   "source": [
    "month = get_monthly_weather('IPOBIE4', creds.api_key, 2023, 4)\n",
    "month[0]"
   ]
  },
  {
   "cell_type": "code",
   "execution_count": null,
   "metadata": {},
   "outputs": [],
   "source": [
    "daily = []\n",
    "for day in month:\n",
    "    day_json = day.json()\n",
    "    pws_obs = day_json['observations'][0]['metric']\n",
    "    daily.append(pws_obs)\n",
    "\n",
    "daily"
   ]
  },
  {
   "cell_type": "code",
   "execution_count": null,
   "metadata": {},
   "outputs": [],
   "source": [
    "daily_dfs = pd.DataFrame(daily)\n",
    "daily_dfs"
   ]
  },
  {
   "cell_type": "code",
   "execution_count": null,
   "metadata": {},
   "outputs": [],
   "source": [
    "daily_dfs.plot(y = ['tempHigh', 'tempLow', 'tempAvg'], figsize=(15, 6), xlabel='Day', ylabel='Temperature')"
   ]
  },
  {
   "cell_type": "code",
   "execution_count": null,
   "metadata": {},
   "outputs": [],
   "source": [
    "df_precipSum = daily_dfs[['precipTotal']].cumsum(axis = 0).rename(columns = {'precipTotal':'precipSum'})\n",
    "df_precipSum"
   ]
  },
  {
   "cell_type": "code",
   "execution_count": null,
   "metadata": {},
   "outputs": [],
   "source": [
    "dfs_merged = pd.concat([daily_dfs, df_precipSum], axis = 1)\n",
    "dfs_merged"
   ]
  },
  {
   "cell_type": "code",
   "execution_count": null,
   "metadata": {},
   "outputs": [],
   "source": [
    "dfs_merged.to_excel('out.xlsx')"
   ]
  },
  {
   "cell_type": "code",
   "execution_count": null,
   "metadata": {},
   "outputs": [],
   "source": [
    "dfs_merged['precipSum'].plot(figsize=(15, 6), ylabel='Precipitation sum')\n",
    "dfs_merged['precipTotal'].plot(secondary_y = True, kind = 'bar', figsize=(15, 6), xlabel='Day').set_ylabel('Precipitation/day')"
   ]
  },
  {
   "cell_type": "code",
   "execution_count": null,
   "metadata": {},
   "outputs": [],
   "source": [
    "year = get_yearly_weather('IPOBIE4', creds.api_key, 2022)\n",
    "print(len(year))"
   ]
  },
  {
   "cell_type": "code",
   "execution_count": null,
   "metadata": {},
   "outputs": [],
   "source": [
    "another_day = get_weather('IPOBIE4', creds.api_key, 2023, 1, 1)\n",
    "another_month = get_weather('IPOBIE4', creds.api_key, 2023, 1)\n",
    "another_year = get_weather('IPOBIE4', creds.api_key, 2023)"
   ]
  },
  {
   "cell_type": "code",
   "execution_count": null,
   "metadata": {},
   "outputs": [],
   "source": [
    "another_future_day = get_weather('IPOBIE4', creds.api_key, 2023, 12, 1)\n",
    "another_future_month = get_weather('IPOBIE4', creds.api_key, 2023, 12)\n",
    "another_future_year = get_weather('IPOBIE4', creds.api_key, 2024)"
   ]
  },
  {
   "cell_type": "code",
   "execution_count": null,
   "metadata": {},
   "outputs": [],
   "source": [
    "period1 = get_perdiod_weather('IPOBIE4', creds.api_key, 20230501, 20230513)"
   ]
  }
 ],
 "metadata": {
  "kernelspec": {
   "display_name": "base",
   "language": "python",
   "name": "python3"
  },
  "language_info": {
   "codemirror_mode": {
    "name": "ipython",
    "version": 3
   },
   "file_extension": ".py",
   "mimetype": "text/x-python",
   "name": "python",
   "nbconvert_exporter": "python",
   "pygments_lexer": "ipython3",
   "version": "3.8.12"
  },
  "orig_nbformat": 4
 },
 "nbformat": 4,
 "nbformat_minor": 2
}
